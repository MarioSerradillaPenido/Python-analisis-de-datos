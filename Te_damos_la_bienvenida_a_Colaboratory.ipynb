{
  "cells": [
    {
      "cell_type": "markdown",
      "source": [
        "Importaciones"
      ],
      "metadata": {
        "id": "fu2k2JrYG4dS"
      }
    },
    {
      "cell_type": "code",
      "source": [
        "import pandas as pd\n",
        "import matplotlib.pyplot as plt"
      ],
      "metadata": {
        "id": "ffiZRpzSG6ZG"
      },
      "execution_count": null,
      "outputs": []
    },
    {
      "cell_type": "markdown",
      "source": [
        "Los 20 primeros juegos y sus plataformas"
      ],
      "metadata": {
        "id": "-TkujNvoHBL1"
      }
    },
    {
      "cell_type": "code",
      "source": [
        "df_deuda = pd.read_csv(\"C:/Users/thepi/Desktop/Programación/Python/arrays/vgsales.csv\")\n",
        "print(df_deuda[[\"Name\", \"Platform\"]].head(20))"
      ],
      "metadata": {
        "id": "AZmhtkxQHEd1"
      },
      "execution_count": null,
      "outputs": []
    },
    {
      "cell_type": "markdown",
      "source": [
        "Los 20 ultimos juegos segun el numero de ventas globales"
      ],
      "metadata": {
        "id": "boHWdgteKOR2"
      }
    },
    {
      "cell_type": "code",
      "source": [
        "print(df_deuda[[\"Name\", \"Global_Sales\"]].tail(20))\n"
      ],
      "metadata": {
        "id": "o0K4djWlKi4Y"
      },
      "execution_count": null,
      "outputs": []
    },
    {
      "cell_type": "markdown",
      "source": [
        "Una tabla comparativa de barras de los 30 juegos mas vendidos a nivel mundial"
      ],
      "metadata": {
        "id": "-nQ2CujYeGlp"
      }
    },
    {
      "cell_type": "code",
      "source": [
        "df_sort = df_deuda.sort_values('Global_Sales', ascending=False)\n",
        "top_30 = df_sort.head(30)\n",
        "top_30.plot(x=\"Name\", y=\"Global_Sales\", kind=\"bar\", legend=None)\n",
        "\n",
        "plt.xlabel('Nombre del juego')\n",
        "plt.ylabel('Ventas en millones')\n",
        "plt.title('Top 30 juegos mas vendidos mundialmente')\n",
        "plt.show()"
      ],
      "metadata": {
        "id": "FCELbuWmeiOF"
      },
      "execution_count": null,
      "outputs": []
    },
    {
      "cell_type": "markdown",
      "source": [
        "Un gráfico en la que se observa la diferencia en ventas del top 3 juegos japoneses mas populares"
      ],
      "metadata": {
        "id": "FlVgBKZmekAc"
      }
    },
    {
      "cell_type": "code",
      "source": [
        "df_japan = df_deuda.sort_values('JP_Sales', ascending=False)\n",
        "japan_sort = df_japan.head(3)\n",
        "japan_sort.plot(x=\"Name\", y=\"JP_Sales\", kind=\"line\", legend=None)\n",
        "plt.xlabel('Nombre del juego')\n",
        "plt.ylabel('Ventas en millones')\n",
        "plt.title('Diferencia de ventas del top 3 Japones')\n",
        "plt.show()"
      ],
      "metadata": {
        "id": "3UG2Nsm7euOQ"
      },
      "execution_count": null,
      "outputs": []
    },
    {
      "cell_type": "markdown",
      "source": [
        "Grafico comparativo de los generos mas populares segun las ventas"
      ],
      "metadata": {
        "id": "3Rc5hh-9gTjE"
      }
    },
    {
      "cell_type": "code",
      "source": [
        "df_generos = df_deuda.groupby('Genre')['Global_Sales'].sum().reset_index()\n",
        "top_10 = df_generos.sort_values(by='Global_Sales', ascending=False).head(10)\n",
        "top_10.plot(x=\"Genre\", y=\"Global_Sales\", kind=\"line\", legend=None)\n",
        "plt.xlabel('Géneros')\n",
        "plt.ylabel('Ventas en millones')\n",
        "plt.title('Diferencia de ventas de los top 10 géneros')\n",
        "plt.show()"
      ],
      "metadata": {
        "id": "47nV-WmXgT5N"
      },
      "execution_count": null,
      "outputs": []
    }
  ],
  "metadata": {
    "colab": {
      "name": "Te damos la bienvenida a Colaboratory",
      "provenance": []
    },
    "kernelspec": {
      "display_name": "Python 3",
      "name": "python3"
    }
  },
  "nbformat": 4,
  "nbformat_minor": 0
}